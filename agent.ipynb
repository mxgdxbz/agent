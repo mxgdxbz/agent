{
 "cells": [
  {
   "cell_type": "markdown",
   "id": "d7219aec",
   "metadata": {
    "papermill": {
     "duration": 0.003764,
     "end_time": "2025-04-11T01:09:49.676761",
     "exception": false,
     "start_time": "2025-04-11T01:09:49.672997",
     "status": "completed"
    },
    "tags": []
   },
   "source": [
    "Setup\n",
    "Start by installing and importing the Python SDK."
   ]
  },
  {
   "cell_type": "code",
   "execution_count": 1,
   "id": "06cc9974",
   "metadata": {
    "execution": {
     "iopub.execute_input": "2025-04-11T01:09:49.684028Z",
     "iopub.status.busy": "2025-04-11T01:09:49.683612Z",
     "iopub.status.idle": "2025-04-11T01:09:58.652135Z",
     "shell.execute_reply": "2025-04-11T01:09:58.650358Z"
    },
    "papermill": {
     "duration": 8.974379,
     "end_time": "2025-04-11T01:09:58.654172",
     "exception": false,
     "start_time": "2025-04-11T01:09:49.679793",
     "status": "completed"
    },
    "tags": []
   },
   "outputs": [
    {
     "name": "stdout",
     "output_type": "stream",
     "text": [
      "\u001b[2K   \u001b[90m━━━━━━━━━━━━━━━━━━━━━━━━━━━━━━━━━━━━━━━━\u001b[0m \u001b[32m144.7/144.7 kB\u001b[0m \u001b[31m4.3 MB/s\u001b[0m eta \u001b[36m0:00:00\u001b[0m\r\n",
      "\u001b[2K   \u001b[90m━━━━━━━━━━━━━━━━━━━━━━━━━━━━━━━━━━━━━━━━\u001b[0m \u001b[32m100.9/100.9 kB\u001b[0m \u001b[31m4.7 MB/s\u001b[0m eta \u001b[36m0:00:00\u001b[0m\r\n",
      "\u001b[?25h\u001b[31mERROR: pip's dependency resolver does not currently take into account all the packages that are installed. This behaviour is the source of the following dependency conflicts.\r\n",
      "jupyterlab-lsp 3.10.2 requires jupyterlab<4.0.0a0,>=3.1.0, which is not installed.\u001b[0m\u001b[31m\r\n",
      "\u001b[0m"
     ]
    }
   ],
   "source": [
    "!pip uninstall -qqy jupyterlab  # Remove unused conflicting packages\n",
    "!pip install -U -q \"google-genai==1.7.0\""
   ]
  },
  {
   "cell_type": "code",
   "execution_count": 2,
   "id": "9dfc54f6",
   "metadata": {
    "execution": {
     "iopub.execute_input": "2025-04-11T01:09:58.662118Z",
     "iopub.status.busy": "2025-04-11T01:09:58.661778Z",
     "iopub.status.idle": "2025-04-11T01:10:00.006119Z",
     "shell.execute_reply": "2025-04-11T01:10:00.005063Z"
    },
    "papermill": {
     "duration": 1.35061,
     "end_time": "2025-04-11T01:10:00.008046",
     "exception": false,
     "start_time": "2025-04-11T01:09:58.657436",
     "status": "completed"
    },
    "tags": []
   },
   "outputs": [
    {
     "data": {
      "text/plain": [
       "'1.7.0'"
      ]
     },
     "execution_count": 2,
     "metadata": {},
     "output_type": "execute_result"
    }
   ],
   "source": [
    "from google import genai\n",
    "from google.genai import types\n",
    "\n",
    "genai.__version__"
   ]
  },
  {
   "cell_type": "code",
   "execution_count": 3,
   "id": "abc95da9",
   "metadata": {
    "execution": {
     "iopub.execute_input": "2025-04-11T01:10:00.016120Z",
     "iopub.status.busy": "2025-04-11T01:10:00.015609Z",
     "iopub.status.idle": "2025-04-11T01:10:00.181022Z",
     "shell.execute_reply": "2025-04-11T01:10:00.179908Z"
    },
    "papermill": {
     "duration": 0.171418,
     "end_time": "2025-04-11T01:10:00.182855",
     "exception": false,
     "start_time": "2025-04-11T01:10:00.011437",
     "status": "completed"
    },
    "tags": []
   },
   "outputs": [],
   "source": [
    "from kaggle_secrets import UserSecretsClient\n",
    "\n",
    "GOOGLE_API_KEY = UserSecretsClient().get_secret(\"GOOGLE_API_KEY\")"
   ]
  },
  {
   "cell_type": "markdown",
   "id": "4df96e0b",
   "metadata": {
    "papermill": {
     "duration": 0.002843,
     "end_time": "2025-04-11T01:10:00.188992",
     "exception": false,
     "start_time": "2025-04-11T01:10:00.186149",
     "status": "completed"
    },
    "tags": []
   },
   "source": [
    "Create Deal database"
   ]
  },
  {
   "cell_type": "code",
   "execution_count": 4,
   "id": "a9167a89",
   "metadata": {
    "execution": {
     "iopub.execute_input": "2025-04-11T01:10:00.199884Z",
     "iopub.status.busy": "2025-04-11T01:10:00.199547Z",
     "iopub.status.idle": "2025-04-11T01:10:07.542828Z",
     "shell.execute_reply": "2025-04-11T01:10:07.541715Z"
    },
    "papermill": {
     "duration": 7.351692,
     "end_time": "2025-04-11T01:10:07.545025",
     "exception": false,
     "start_time": "2025-04-11T01:10:00.193333",
     "status": "completed"
    },
    "tags": []
   },
   "outputs": [
    {
     "name": "stdout",
     "output_type": "stream",
     "text": [
      "```json\n",
      "[\n",
      "    {\n",
      "        \"deal_type\": \"M&A\",\n",
      "        \"companies\": [\"Johnson & Johnson\", \"Ambrx\"],\n",
      "        \"date\": \"2024-01-08\",\n",
      "        \"upfront\": null,\n",
      "        \"total_deal_value\": \"$2.0 billion\",\n",
      "        \"indication\": \"Oncology\",\n",
      "        \"asset\": \"ADC Platform\",\n",
      "        \"deal_details\": \"Johnson & Johnson acquired Ambrx, gaining access to its ADC platform and pipeline.\"\n",
      "    },\n",
      "    {\n",
      "        \"deal_type\": \"Collaboration\",\n",
      "        \"companies\": [\"Astellas\", \"CG Oncology\"],\n",
      "        \"date\": \"2024-01-03\",\n",
      "        \"upfront\": \"$450 million\",\n",
      "        \"total_deal_value\": \"$1.5 billion\",\n",
      "        \"indication\": \"Bladder Cancer\",\n",
      "        \"asset\": \"CG0070\",\n",
      "        \"deal_details\": \"Astellas and CG Oncology collaborate to develop and commercialize CG0070, an oncolytic virus therapy for bladder cancer.\"\n",
      "    },\n",
      "    {\n",
      "        \"deal_type\": \"Licensing\",\n",
      "        \"companies\": [\"Merck\", \"Harpoon Therapeutics\"],\n",
      "        \"date\": \"2024-01-08\",\n",
      "        \"upfront\": \"$680 million\",\n",
      "        \"total_deal_value\": \"$680 million\",\n",
      "        \"indication\": \"Oncology\",\n",
      "        \"asset\": \"T-cell engagers\",\n",
      "        \"deal_details\": \"Merck acquired Harpoon Therapeutics for $680 million to expand its oncology pipeline with novel T-cell engagers.\"\n",
      "    },\n",
      "    {\n",
      "        \"deal_type\": \"M&A\",\n",
      "        \"companies\": [\"Bristol Myers Squibb\", \"RayzeBio\"],\n",
      "        \"date\": \"2024-01-16\",\n",
      "        \"upfront\": null,\n",
      "        \"total_deal_value\": \"$4.1 billion\",\n",
      "        \"indication\": \"Oncology\",\n",
      "        \"asset\": \"Radiopharmaceutical therapeutics\",\n",
      "        \"deal_details\": \"Bristol Myers Squibb acquired RayzeBio to expand its oncology pipeline with radiopharmaceutical therapeutics.\"\n",
      "    },\n",
      "     {\n",
      "        \"deal_type\": \"M&A\",\n",
      "        \"companies\": [\"Bristol Myers Squibb\", \"Mirati Therapeutics\"],\n",
      "        \"date\": \"2024-01-24\",\n",
      "        \"upfront\": null,\n",
      "        \"total_deal_value\": \"$4.8 billion\",\n",
      "        \"indication\": \"Oncology\",\n",
      "        \"asset\": \"Krazati (adagrasib)\",\n",
      "        \"deal_details\": \"Bristol Myers Squibb completed the acquisition of Mirati Therapeutics, gaining their KRAS inhibitor.\"\n",
      "    },\n",
      "    {\n",
      "        \"deal_type\": \"Collaboration\",\n",
      "        \"companies\": [\"GSK\", \"Aiolos Bio\"],\n",
      "        \"date\": \"2024-01-24\",\n",
      "        \"upfront\": \"$1.0 billion\",\n",
      "        \"total_deal_value\": \"$1.4 billion\",\n",
      "        \"indication\": \"Oncology\",\n",
      "        \"asset\": \"AIO-001\",\n",
      "        \"deal_details\": \"GSK and Aiolos Bio collaborate to develop AIO-001, a clinical-stage anti-OX40 monoclonal antibody\"\n",
      "    },\n",
      "    {\n",
      "       \"deal_type\": \"Licensing\",\n",
      "        \"companies\": [\"BioNTech\", \"DualityBio\"],\n",
      "        \"date\": \"2024-04-29\",\n",
      "        \"upfront\": \"$170 million\",\n",
      "        \"total_deal_value\": \"$1.5 billion\",\n",
      "        \"indication\": \"Solid Tumors\",\n",
      "        \"asset\": \"DB-1303 (HER3-Directed ADC)\",\n",
      "        \"deal_details\": \"BioNTech licenses HER3-directed ADC from DualityBio to expand solid tumor pipeline.\"\n",
      "    },\n",
      "    {\n",
      "        \"deal_type\": \"Licensing\",\n",
      "        \"companies\": [\"Catalent\", \"Redx Pharma\"],\n",
      "        \"date\": \"2024-05-07\",\n",
      "        \"upfront\": null,\n",
      "        \"total_deal_value\": null,\n",
      "        \"indication\": \"Oncology\",\n",
      "        \"asset\": \"Pan-RAF inhibitor program\",\n",
      "        \"deal_details\": \"Catalent licenses pan-RAF inhibitor program from Redx Pharma.\"\n",
      "    },\n",
      "   {\n",
      "        \"deal_type\": \"Collaboration\",\n",
      "        \"companies\": [\"Incyte\", \"XOMA Corporation\"],\n",
      "        \"date\": \"2024-05-16\",\n",
      "        \"upfront\": \"$80 million\",\n",
      "        \"total_deal_value\": null,\n",
      "        \"indication\": \"Oncology\",\n",
      "        \"asset\": \"up to 10 targets using XOMA's proprietary platforms\",\n",
      "        \"deal_details\": \"Incyte and XOMA partner up to 10 targets.\"\n",
      "    },\n",
      "    {\n",
      "        \"deal_type\": \"Licensing\",\n",
      "        \"companies\": [\"Bayer\", \"Dewpoint Therapeutics\"],\n",
      "        \"date\": \"2024-05-28\",\n",
      "        \"upfront\": null,\n",
      "        \"total_deal_value\": null,\n",
      "        \"indication\": \"Oncology\",\n",
      "        \"asset\": \"a novel target\",\n",
      "        \"deal_details\": \"Bayer and Dewpoint Therapeutics partner to identify a novel target. \"\n",
      "    }\n",
      "]\n",
      "```\n"
     ]
    }
   ],
   "source": [
    "from google import genai\n",
    "from google.genai import types\n",
    "from google.api_core import retry\n",
    "\n",
    "\n",
    "# Initialize Gemini client\n",
    "\n",
    "\n",
    "client = genai.Client(api_key=GOOGLE_API_KEY)\n",
    "\n",
    "few_shot_prompt = \"\"\"You are a deal searching tool, search recent pharma/biotech licensing in/out deals, M&A deals and strategic collaboration announcement based on user requests; Fierce Pharma and BioSpace are good websites to track deals\n",
    "Then you parse deal stakeholders, date, deal amount, indication, medication (or drug) into valid JSON. Do not show other information.\n",
    "Example:\n",
    "Give me 3 striking deals in licensing, M&A and collaboration\n",
    "JSON Response:\n",
    "    [{\n",
    "        \"deal_type\": \"licensing\",\n",
    "        \"companies\": [\"AstraZeneca\", \"Daiichi Sankyo\"],\n",
    "        \"date\": \"2023-07-15\",\n",
    "        \"upfront\": \"$1 billion\",\n",
    "        \"total_deal_value\":\"6.9 billion\"\n",
    "        \"indication\": \"oncology\",\n",
    "        \"asset\": \"DS-1062 (trastuzumab deruxtecan)\",\n",
    "        \"deal_details\": \"AstraZeneca licensed global rights to Daiichi Sankyo's antibody-drug conjugate for multiple cancer types.\"\n",
    "    },\n",
    "    {\n",
    "        \"deal_type\": \"M&A\",\n",
    "        \"companies\": [\"Pfizer\", \"Seagen\"],\n",
    "        \"date\": \"2023-03-12\",\n",
    "        \"upfront\": \"$5 billion\",\n",
    "        \"total_deal_value\": \"$43 billion\",\n",
    "        \"indication\": \"oncology\",\n",
    "        \"asset\": \"Multiple ADC technologies\",\n",
    "        \"deal_details\": \"Pfizer acquired Seagen to enhance its cancer therapy portfolio with antibody-drug conjugate technology.\"\n",
    "    },\n",
    "    {\n",
    "        \"deal_type\": \"collaboration\",\n",
    "        \"companies\": [\"Moderna\", \"Merck\"],\n",
    "        \"date\": \"2023-05-02\",\n",
    "        \"amount\": \"$250 million upfront\",\n",
    "        \"total_deal_value\": \"N/A\"\n",
    "        \"indication\": \"immuno-oncology\",\n",
    "        \"asset\": \"mRNA-4157\",\n",
    "        \"deal_details\": \"Strategic collaboration to develop and commercialize personalized cancer vaccines using mRNA technology.\"\n",
    "    }]\n",
    "    \"\"\"\n",
    "user_input='what are the 2024 top 10 deals in oncology?'\n",
    "response = client.models.generate_content(\n",
    "    model=\"gemini-2.0-flash\",\n",
    "    contents=[few_shot_prompt, user_input])\n",
    "\n",
    "print(response.text)"
   ]
  },
  {
   "cell_type": "markdown",
   "id": "b323fc03",
   "metadata": {
    "papermill": {
     "duration": 0.003149,
     "end_time": "2025-04-11T01:10:07.551911",
     "exception": false,
     "start_time": "2025-04-11T01:10:07.548762",
     "status": "completed"
    },
    "tags": []
   },
   "source": [
    "load the response to local database"
   ]
  },
  {
   "cell_type": "code",
   "execution_count": 5,
   "id": "e21edbbf",
   "metadata": {
    "execution": {
     "iopub.execute_input": "2025-04-11T01:10:07.560591Z",
     "iopub.status.busy": "2025-04-11T01:10:07.559736Z",
     "iopub.status.idle": "2025-04-11T01:10:10.565349Z",
     "shell.execute_reply": "2025-04-11T01:10:10.564340Z"
    },
    "papermill": {
     "duration": 3.011944,
     "end_time": "2025-04-11T01:10:10.567193",
     "exception": false,
     "start_time": "2025-04-11T01:10:07.555249",
     "status": "completed"
    },
    "tags": []
   },
   "outputs": [],
   "source": [
    "%load_ext sql\n",
    "%sql sqlite:///pharma_deals.db"
   ]
  },
  {
   "cell_type": "code",
   "execution_count": 6,
   "id": "781af46b",
   "metadata": {
    "execution": {
     "iopub.execute_input": "2025-04-11T01:10:10.575775Z",
     "iopub.status.busy": "2025-04-11T01:10:10.575112Z",
     "iopub.status.idle": "2025-04-11T01:10:10.582516Z",
     "shell.execute_reply": "2025-04-11T01:10:10.581469Z"
    },
    "papermill": {
     "duration": 0.013142,
     "end_time": "2025-04-11T01:10:10.584068",
     "exception": false,
     "start_time": "2025-04-11T01:10:10.570926",
     "status": "completed"
    },
    "tags": []
   },
   "outputs": [
    {
     "name": "stdout",
     "output_type": "stream",
     "text": [
      "[{'deal_type': 'M&A', 'companies': ['Johnson & Johnson', 'Ambrx'], 'date': '2024-01-08', 'upfront': None, 'total_deal_value': '$2.0 billion', 'indication': 'Oncology', 'asset': 'ADC Platform', 'deal_details': 'Johnson & Johnson acquired Ambrx, gaining access to its ADC platform and pipeline.'}, {'deal_type': 'Collaboration', 'companies': ['Astellas', 'CG Oncology'], 'date': '2024-01-03', 'upfront': '$450 million', 'total_deal_value': '$1.5 billion', 'indication': 'Bladder Cancer', 'asset': 'CG0070', 'deal_details': 'Astellas and CG Oncology collaborate to develop and commercialize CG0070, an oncolytic virus therapy for bladder cancer.'}, {'deal_type': 'Licensing', 'companies': ['Merck', 'Harpoon Therapeutics'], 'date': '2024-01-08', 'upfront': '$680 million', 'total_deal_value': '$680 million', 'indication': 'Oncology', 'asset': 'T-cell engagers', 'deal_details': 'Merck acquired Harpoon Therapeutics for $680 million to expand its oncology pipeline with novel T-cell engagers.'}, {'deal_type': 'M&A', 'companies': ['Bristol Myers Squibb', 'RayzeBio'], 'date': '2024-01-16', 'upfront': None, 'total_deal_value': '$4.1 billion', 'indication': 'Oncology', 'asset': 'Radiopharmaceutical therapeutics', 'deal_details': 'Bristol Myers Squibb acquired RayzeBio to expand its oncology pipeline with radiopharmaceutical therapeutics.'}, {'deal_type': 'M&A', 'companies': ['Bristol Myers Squibb', 'Mirati Therapeutics'], 'date': '2024-01-24', 'upfront': None, 'total_deal_value': '$4.8 billion', 'indication': 'Oncology', 'asset': 'Krazati (adagrasib)', 'deal_details': 'Bristol Myers Squibb completed the acquisition of Mirati Therapeutics, gaining their KRAS inhibitor.'}, {'deal_type': 'Collaboration', 'companies': ['GSK', 'Aiolos Bio'], 'date': '2024-01-24', 'upfront': '$1.0 billion', 'total_deal_value': '$1.4 billion', 'indication': 'Oncology', 'asset': 'AIO-001', 'deal_details': 'GSK and Aiolos Bio collaborate to develop AIO-001, a clinical-stage anti-OX40 monoclonal antibody'}, {'deal_type': 'Licensing', 'companies': ['BioNTech', 'DualityBio'], 'date': '2024-04-29', 'upfront': '$170 million', 'total_deal_value': '$1.5 billion', 'indication': 'Solid Tumors', 'asset': 'DB-1303 (HER3-Directed ADC)', 'deal_details': 'BioNTech licenses HER3-directed ADC from DualityBio to expand solid tumor pipeline.'}, {'deal_type': 'Licensing', 'companies': ['Catalent', 'Redx Pharma'], 'date': '2024-05-07', 'upfront': None, 'total_deal_value': None, 'indication': 'Oncology', 'asset': 'Pan-RAF inhibitor program', 'deal_details': 'Catalent licenses pan-RAF inhibitor program from Redx Pharma.'}, {'deal_type': 'Collaboration', 'companies': ['Incyte', 'XOMA Corporation'], 'date': '2024-05-16', 'upfront': '$80 million', 'total_deal_value': None, 'indication': 'Oncology', 'asset': \"up to 10 targets using XOMA's proprietary platforms\", 'deal_details': 'Incyte and XOMA partner up to 10 targets.'}, {'deal_type': 'Licensing', 'companies': ['Bayer', 'Dewpoint Therapeutics'], 'date': '2024-05-28', 'upfront': None, 'total_deal_value': None, 'indication': 'Oncology', 'asset': 'a novel target', 'deal_details': 'Bayer and Dewpoint Therapeutics partner to identify a novel target. '}]\n"
     ]
    }
   ],
   "source": [
    "import sqlite3\n",
    "import pandas as pd\n",
    "from datetime import datetime\n",
    "import json\n",
    "import re\n",
    "\n",
    "\n",
    "# The LLM response now contains a JSON array\n",
    "response_text = response.text\n",
    "\n",
    "# Clean up the response text\n",
    "# Remove any markdown code block markers if present\n",
    "cleaned_text = re.sub(r'```language=json|```json|```|language=json', '', response_text)\n",
    "# Remove any leading/trailing whitespace\n",
    "cleaned_text = cleaned_text.strip()\n",
    "\n",
    "try:\n",
    "    deals = json.loads(cleaned_text)\n",
    "except json.JSONDecodeError:\n",
    "    # If the response isn't valid JSON, we need to handle it differently\n",
    "    print(\"Response is not valid JSON. Using raw text.\")\n",
    "    deals = [{\"deal_text\": response.text}]\n",
    "print(deals)\n"
   ]
  },
  {
   "cell_type": "code",
   "execution_count": 7,
   "id": "04887fb0",
   "metadata": {
    "execution": {
     "iopub.execute_input": "2025-04-11T01:10:10.591795Z",
     "iopub.status.busy": "2025-04-11T01:10:10.591520Z",
     "iopub.status.idle": "2025-04-11T01:10:10.617343Z",
     "shell.execute_reply": "2025-04-11T01:10:10.616379Z"
    },
    "papermill": {
     "duration": 0.031468,
     "end_time": "2025-04-11T01:10:10.618859",
     "exception": false,
     "start_time": "2025-04-11T01:10:10.587391",
     "status": "completed"
    },
    "tags": []
   },
   "outputs": [
    {
     "name": "stdout",
     "output_type": "stream",
     "text": [
      "Existing columns in deals table: []\n",
      "Created new deals table with correct schema\n"
     ]
    }
   ],
   "source": [
    "# Create a connection to the SQLite database\n",
    "conn = sqlite3.connect('pharma_deals.db')\n",
    "cursor = conn.cursor()\n",
    "\n",
    "# Check if the deals table exists and get its column information\n",
    "cursor.execute(\"PRAGMA table_info(deals)\")\n",
    "columns = cursor.fetchall()\n",
    "column_names = [column[1] for column in columns]\n",
    "print(f\"Existing columns in deals table: {column_names}\")\n",
    "\n",
    "# If the table exists but doesn't have the right columns, drop and recreate it\n",
    "if columns and 'upfront' not in column_names:\n",
    "    print(\"Table exists but has incorrect schema. Dropping and recreating...\")\n",
    "    cursor.execute(\"DROP TABLE deals\")\n",
    "    columns = []\n",
    "\n",
    "# Create table for deals if it doesn't exist or was dropped\n",
    "if not columns:\n",
    "    cursor.execute('''\n",
    "    CREATE TABLE deals (\n",
    "        deal_id INTEGER PRIMARY KEY,\n",
    "        deal_type TEXT,\n",
    "        licensor TEXT,\n",
    "        licensee TEXT,\n",
    "        date TEXT,\n",
    "        upfront TEXT,\n",
    "        total_deal_value TEXT,\n",
    "        indication TEXT,\n",
    "        asset TEXT,\n",
    "        deal_details TEXT\n",
    "    )\n",
    "    ''')\n",
    "    print(\"Created new deals table with correct schema\")"
   ]
  },
  {
   "cell_type": "code",
   "execution_count": 8,
   "id": "9a1aada1",
   "metadata": {
    "execution": {
     "iopub.execute_input": "2025-04-11T01:10:10.627256Z",
     "iopub.status.busy": "2025-04-11T01:10:10.626925Z",
     "iopub.status.idle": "2025-04-11T01:10:10.645869Z",
     "shell.execute_reply": "2025-04-11T01:10:10.644838Z"
    },
    "papermill": {
     "duration": 0.024996,
     "end_time": "2025-04-11T01:10:10.647582",
     "exception": false,
     "start_time": "2025-04-11T01:10:10.622586",
     "status": "completed"
    },
    "tags": []
   },
   "outputs": [],
   "source": [
    "# Insert deals into the database\n",
    "for deal in deals:\n",
    "    # For simplicity, assuming first company is licensor/acquirer and second is licensee/target\n",
    "    licensor = deal['companies'][0] if len(deal['companies']) > 0 else None\n",
    "    licensee = deal['companies'][1] if len(deal['companies']) > 1 else None\n",
    "    \n",
    "    # Insert deal\n",
    "    cursor.execute('''\n",
    "    INSERT INTO deals (deal_type, licensor, licensee, date, upfront, total_deal_value, indication, asset, deal_details)\n",
    "    VALUES (?, ?, ?, ?, ?, ?, ?, ?, ?)\n",
    "    ''', (\n",
    "        deal.get('deal_type', ''),\n",
    "        licensor,\n",
    "        licensee,\n",
    "        deal.get('date', ''),\n",
    "        deal.get('upfront', ''),\n",
    "        deal.get('total_deal_value', ''),\n",
    "        deal.get('indication', ''),\n",
    "        deal.get('asset', ''),\n",
    "        deal.get('deal_details', '')\n",
    "    ))\n",
    "\n",
    "# Commit the changes\n",
    "conn.commit()"
   ]
  },
  {
   "cell_type": "code",
   "execution_count": 9,
   "id": "22a0ddfd",
   "metadata": {
    "execution": {
     "iopub.execute_input": "2025-04-11T01:10:10.655915Z",
     "iopub.status.busy": "2025-04-11T01:10:10.655263Z",
     "iopub.status.idle": "2025-04-11T01:10:10.661095Z",
     "shell.execute_reply": "2025-04-11T01:10:10.659847Z"
    },
    "papermill": {
     "duration": 0.011354,
     "end_time": "2025-04-11T01:10:10.662445",
     "exception": false,
     "start_time": "2025-04-11T01:10:10.651091",
     "status": "completed"
    },
    "tags": []
   },
   "outputs": [
    {
     "name": "stdout",
     "output_type": "stream",
     "text": [
      "Deals in the database:\n",
      "(1, 'M&A', 'Johnson & Johnson', 'Ambrx', '2024-01-08', None, '$2.0 billion', 'Oncology', 'ADC Platform', 'Johnson & Johnson acquired Ambrx, gaining access to its ADC platform and pipeline.')\n",
      "(2, 'Collaboration', 'Astellas', 'CG Oncology', '2024-01-03', '$450 million', '$1.5 billion', 'Bladder Cancer', 'CG0070', 'Astellas and CG Oncology collaborate to develop and commercialize CG0070, an oncolytic virus therapy for bladder cancer.')\n",
      "(3, 'Licensing', 'Merck', 'Harpoon Therapeutics', '2024-01-08', '$680 million', '$680 million', 'Oncology', 'T-cell engagers', 'Merck acquired Harpoon Therapeutics for $680 million to expand its oncology pipeline with novel T-cell engagers.')\n",
      "(4, 'M&A', 'Bristol Myers Squibb', 'RayzeBio', '2024-01-16', None, '$4.1 billion', 'Oncology', 'Radiopharmaceutical therapeutics', 'Bristol Myers Squibb acquired RayzeBio to expand its oncology pipeline with radiopharmaceutical therapeutics.')\n",
      "(5, 'M&A', 'Bristol Myers Squibb', 'Mirati Therapeutics', '2024-01-24', None, '$4.8 billion', 'Oncology', 'Krazati (adagrasib)', 'Bristol Myers Squibb completed the acquisition of Mirati Therapeutics, gaining their KRAS inhibitor.')\n",
      "(6, 'Collaboration', 'GSK', 'Aiolos Bio', '2024-01-24', '$1.0 billion', '$1.4 billion', 'Oncology', 'AIO-001', 'GSK and Aiolos Bio collaborate to develop AIO-001, a clinical-stage anti-OX40 monoclonal antibody')\n",
      "(7, 'Licensing', 'BioNTech', 'DualityBio', '2024-04-29', '$170 million', '$1.5 billion', 'Solid Tumors', 'DB-1303 (HER3-Directed ADC)', 'BioNTech licenses HER3-directed ADC from DualityBio to expand solid tumor pipeline.')\n",
      "(8, 'Licensing', 'Catalent', 'Redx Pharma', '2024-05-07', None, None, 'Oncology', 'Pan-RAF inhibitor program', 'Catalent licenses pan-RAF inhibitor program from Redx Pharma.')\n",
      "(9, 'Collaboration', 'Incyte', 'XOMA Corporation', '2024-05-16', '$80 million', None, 'Oncology', \"up to 10 targets using XOMA's proprietary platforms\", 'Incyte and XOMA partner up to 10 targets.')\n",
      "(10, 'Licensing', 'Bayer', 'Dewpoint Therapeutics', '2024-05-28', None, None, 'Oncology', 'a novel target', 'Bayer and Dewpoint Therapeutics partner to identify a novel target. ')\n"
     ]
    }
   ],
   "source": [
    "# Verify the data was inserted correctly\n",
    "print(\"Deals in the database:\")\n",
    "for row in conn.execute(\"SELECT * FROM deals\"):\n",
    "    print(row)"
   ]
  }
 ],
 "metadata": {
  "kaggle": {
   "accelerator": "none",
   "dataSources": [],
   "dockerImageVersionId": 31012,
   "isGpuEnabled": false,
   "isInternetEnabled": true,
   "language": "python",
   "sourceType": "notebook"
  },
  "kernelspec": {
   "display_name": "Python 3",
   "language": "python",
   "name": "python3"
  },
  "language_info": {
   "codemirror_mode": {
    "name": "ipython",
    "version": 3
   },
   "file_extension": ".py",
   "mimetype": "text/x-python",
   "name": "python",
   "nbconvert_exporter": "python",
   "pygments_lexer": "ipython3",
   "version": "3.11.11"
  },
  "papermill": {
   "default_parameters": {},
   "duration": 26.841769,
   "end_time": "2025-04-11T01:10:11.586684",
   "environment_variables": {},
   "exception": null,
   "input_path": "__notebook__.ipynb",
   "output_path": "__notebook__.ipynb",
   "parameters": {},
   "start_time": "2025-04-11T01:09:44.744915",
   "version": "2.6.0"
  }
 },
 "nbformat": 4,
 "nbformat_minor": 5
}
